{
 "cells": [
  {
   "cell_type": "code",
   "execution_count": 1,
   "id": "c8727261-278e-40ce-899e-8475a2a978b9",
   "metadata": {},
   "outputs": [
    {
     "data": {
      "text/html": [
       "<span style=\"None\">displaylimit: Value None will be treated as 0 (no limit)</span>"
      ],
      "text/plain": [
       "displaylimit: Value None will be treated as 0 (no limit)"
      ]
     },
     "metadata": {},
     "output_type": "display_data"
    },
    {
     "data": {
      "text/html": [
       "<span style=\"None\">Connecting to &#x27;sqlite:///library.db&#x27;</span>"
      ],
      "text/plain": [
       "Connecting to 'sqlite:///library.db'"
      ]
     },
     "metadata": {},
     "output_type": "display_data"
    }
   ],
   "source": [
    "%reload_ext sql\n",
    "%config SqlMagic.displaylimit = None\n",
    "%sql sqlite:///library.db"
   ]
  },
  {
   "cell_type": "code",
   "execution_count": 105,
   "id": "61508a5b-1a92-43dc-bbf8-ca48e42b71b4",
   "metadata": {},
   "outputs": [
    {
     "data": {
      "text/html": [
       "<span style=\"None\">Running query in &#x27;sqlite:///libray.db&#x27;</span>"
      ],
      "text/plain": [
       "Running query in 'sqlite:///libray.db'"
      ]
     },
     "metadata": {},
     "output_type": "display_data"
    },
    {
     "data": {
      "text/html": [
       "<table>\n",
       "    <thead>\n",
       "        <tr>\n",
       "        </tr>\n",
       "    </thead>\n",
       "    <tbody>\n",
       "    </tbody>\n",
       "</table>"
      ],
      "text/plain": [
       "++\n",
       "||\n",
       "++\n",
       "++"
      ]
     },
     "execution_count": 105,
     "metadata": {},
     "output_type": "execute_result"
    }
   ],
   "source": [
    "%%sql\n",
    "-- Ensure foreign keys are enabled (Run separately before this script in SQLite)\n",
    "PRAGMA foreign_keys = ON;\n",
    "\n",
    "CREATE TABLE\n",
    "  IF NOT EXISTS events (\n",
    "    eventID INTEGER PRIMARY KEY,\n",
    "    eventName TEXT NOT NULL,\n",
    "    eventType TEXT NOT NULL,\n",
    "    description TEXT,\n",
    "    audienceType TEXT,\n",
    "    eventDate TEXT CHECK (eventDate LIKE '____-__-__'),\n",
    "    startTime TIME NOT NULL, -- Changed from TEXT to TIME for proper comparison\n",
    "    endTime TIME NOT NULL,\n",
    "    roomNum INTEGER NOT NULL,\n",
    "    FOREIGN KEY (roomNum) REFERENCES socialRooms (roomNum) ON DELETE CASCADE,\n",
    "    CHECK (startTime < endTime)\n",
    "  );\n",
    "\n",
    "CREATE TABLE\n",
    "  IF NOT EXISTS item (\n",
    "    itemID INTEGER PRIMARY KEY AUTOINCREMENT,\n",
    "    title TEXT NOT NULL,\n",
    "    author TEXT,\n",
    "    publicationYear INTEGER,\n",
    "    genre TEXT,\n",
    "    itemType TEXT,\n",
    "    isAvailable INTEGER CHECK (isAvailable IN (0, 1)),\n",
    "    location TEXT\n",
    "  );\n",
    "\n",
    "CREATE TABLE\n",
    "  IF NOT EXISTS borrowedBy (\n",
    "    borrowingID INTEGER PRIMARY KEY AUTOINCREMENT,\n",
    "    itemID INTEGER NOT NULL,\n",
    "    userID INTEGER NOT NULL,\n",
    "    borrowDate TEXT CHECK (borrowDate LIKE '____-__-__'),\n",
    "    returnDate TEXT CHECK (returnDate LIKE '____-__-__'),\n",
    "    fineAmnt REAL DEFAULT 0.0,\n",
    "    FOREIGN KEY (itemID) REFERENCES item (itemID) ON DELETE CASCADE,\n",
    "    FOREIGN KEY (userID) REFERENCES patron (userID) ON DELETE CASCADE,\n",
    "    CHECK (borrowDate < returnDate)\n",
    "  );\n",
    "\n",
    "CREATE TABLE\n",
    "  IF NOT EXISTS socialRooms (\n",
    "    roomNum INTEGER PRIMARY KEY,\n",
    "    isAvailable INTEGER CHECK (isAvailable IN (0, 1)),\n",
    "    capacity INTEGER CHECK (capacity > 0)\n",
    "  );\n",
    "\n",
    "CREATE TABLE\n",
    "  IF NOT EXISTS personnel (\n",
    "    staffID INTEGER PRIMARY KEY AUTOINCREMENT,\n",
    "    firstName TEXT NOT NULL,\n",
    "    lastName TEXT NOT NULL,\n",
    "    POSITION TEXT NOT NULL,\n",
    "    phoneNum NUMERIC,\n",
    "    isActive INTEGER CHECK (isActive IN (0, 1))\n",
    "  );\n",
    "\n",
    "CREATE TABLE\n",
    "  IF NOT EXISTS patron (\n",
    "    userID INTEGER PRIMARY KEY AUTOINCREMENT,\n",
    "    firstName TEXT NOT NULL,\n",
    "    lastName TEXT NOT NULL,\n",
    "    phoneNum NUMERIC UNIQUE\n",
    "  );\n",
    "\n",
    "CREATE TABLE\n",
    "  IF NOT EXISTS futureItems (\n",
    "    itemID INTEGER PRIMARY KEY,\n",
    "    expectedArrivalDate TEXT CHECK (expectedArrivalDate LIKE '____-__-__'),\n",
    "    FOREIGN KEY (itemID) REFERENCES item (itemID) ON DELETE CASCADE\n",
    "  );\n",
    "\n",
    "CREATE TABLE\n",
    "  IF NOT EXISTS registerEvent (\n",
    "    eventID INTEGER,\n",
    "    userID INTEGER,\n",
    "    PRIMARY KEY (eventID, userID),\n",
    "    FOREIGN KEY (eventID) REFERENCES events (eventID) ON DELETE CASCADE,\n",
    "    FOREIGN KEY (userID) REFERENCES patron (userID) ON DELETE CASCADE\n",
    "  );\n",
    "\n",
    "CREATE TABLE\n",
    "  IF NOT EXISTS askLibrarian (\n",
    "    requestID INTEGER PRIMARY KEY AUTOINCREMENT,\n",
    "    userID INTEGER NOT NULL,\n",
    "    staffID INTEGER NOT NULL,\n",
    "    requestTime TEXT CHECK (requestTime LIKE '____-__-__ __:__:__'),\n",
    "    description TEXT NOT NULL,\n",
    "    status INTEGER CHECK (status IN (0, 1, 2)),\n",
    "    FOREIGN KEY (staffID) REFERENCES personnel (staffID) ON DELETE SET NULL,\n",
    "    FOREIGN KEY (userID) REFERENCES patron (userID) ON DELETE CASCADE\n",
    "  );\n",
    "\n",
    "CREATE TABLE\n",
    "  IF NOT EXISTS donations (\n",
    "    donationID INTEGER PRIMARY KEY AUTOINCREMENT,\n",
    "    userID INTEGER NOT NULL,\n",
    "    itemID INTEGER NOT NULL,\n",
    "    donationDate TEXT CHECK (donationDate LIKE '____-__-__'),\n",
    "    FOREIGN KEY (itemID) REFERENCES item (itemID) ON DELETE CASCADE,\n",
    "    FOREIGN KEY (userID) REFERENCES patron (userID) ON DELETE CASCADE\n",
    "  );\n",
    "\n",
    "CREATE TABLE\n",
    "  IF NOT EXISTS volunteers (\n",
    "    userID INTEGER NOT NULL,\n",
    "    staffID INTEGER NOT NULL,\n",
    "    PRIMARY KEY (userID, staffID),\n",
    "    FOREIGN KEY (staffID) REFERENCES personnel (staffID) ON DELETE CASCADE,\n",
    "    FOREIGN KEY (userID) REFERENCES patron (userID) ON DELETE CASCADE\n",
    "  );"
   ]
  },
  {
   "cell_type": "code",
   "execution_count": 59,
   "id": "f2ae2e34-ccf1-4bbd-8a5c-76d87e8dbab2",
   "metadata": {},
   "outputs": [
    {
     "data": {
      "text/html": [
       "<span style=\"None\">Running query in &#x27;sqlite:///libray.db&#x27;</span>"
      ],
      "text/plain": [
       "Running query in 'sqlite:///libray.db'"
      ]
     },
     "metadata": {},
     "output_type": "display_data"
    },
    {
     "data": {
      "text/html": [
       "<table>\n",
       "    <thead>\n",
       "        <tr>\n",
       "            <th>cid</th>\n",
       "            <th>name</th>\n",
       "            <th>type</th>\n",
       "            <th>notnull</th>\n",
       "            <th>dflt_value</th>\n",
       "            <th>pk</th>\n",
       "        </tr>\n",
       "    </thead>\n",
       "    <tbody>\n",
       "        <tr>\n",
       "            <td>0</td>\n",
       "            <td>itemID</td>\n",
       "            <td>INTEGER</td>\n",
       "            <td>0</td>\n",
       "            <td>None</td>\n",
       "            <td>1</td>\n",
       "        </tr>\n",
       "        <tr>\n",
       "            <td>1</td>\n",
       "            <td>title</td>\n",
       "            <td>TEXT</td>\n",
       "            <td>1</td>\n",
       "            <td>None</td>\n",
       "            <td>0</td>\n",
       "        </tr>\n",
       "        <tr>\n",
       "            <td>2</td>\n",
       "            <td>author</td>\n",
       "            <td>TEXT</td>\n",
       "            <td>0</td>\n",
       "            <td>None</td>\n",
       "            <td>0</td>\n",
       "        </tr>\n",
       "        <tr>\n",
       "            <td>3</td>\n",
       "            <td>publicationYear</td>\n",
       "            <td>INTEGER</td>\n",
       "            <td>0</td>\n",
       "            <td>None</td>\n",
       "            <td>0</td>\n",
       "        </tr>\n",
       "        <tr>\n",
       "            <td>4</td>\n",
       "            <td>genre</td>\n",
       "            <td>TEXT</td>\n",
       "            <td>0</td>\n",
       "            <td>None</td>\n",
       "            <td>0</td>\n",
       "        </tr>\n",
       "        <tr>\n",
       "            <td>5</td>\n",
       "            <td>itemType</td>\n",
       "            <td>TEXT</td>\n",
       "            <td>0</td>\n",
       "            <td>None</td>\n",
       "            <td>0</td>\n",
       "        </tr>\n",
       "        <tr>\n",
       "            <td>6</td>\n",
       "            <td>isAvailable</td>\n",
       "            <td>INTEGER</td>\n",
       "            <td>0</td>\n",
       "            <td>None</td>\n",
       "            <td>0</td>\n",
       "        </tr>\n",
       "        <tr>\n",
       "            <td>7</td>\n",
       "            <td>location</td>\n",
       "            <td>TEXT</td>\n",
       "            <td>0</td>\n",
       "            <td>None</td>\n",
       "            <td>0</td>\n",
       "        </tr>\n",
       "    </tbody>\n",
       "</table>"
      ],
      "text/plain": [
       "+-----+-----------------+---------+---------+------------+----+\n",
       "| cid |       name      |   type  | notnull | dflt_value | pk |\n",
       "+-----+-----------------+---------+---------+------------+----+\n",
       "|  0  |      itemID     | INTEGER |    0    |    None    | 1  |\n",
       "|  1  |      title      |   TEXT  |    1    |    None    | 0  |\n",
       "|  2  |      author     |   TEXT  |    0    |    None    | 0  |\n",
       "|  3  | publicationYear | INTEGER |    0    |    None    | 0  |\n",
       "|  4  |      genre      |   TEXT  |    0    |    None    | 0  |\n",
       "|  5  |     itemType    |   TEXT  |    0    |    None    | 0  |\n",
       "|  6  |   isAvailable   | INTEGER |    0    |    None    | 0  |\n",
       "|  7  |     location    |   TEXT  |    0    |    None    | 0  |\n",
       "+-----+-----------------+---------+---------+------------+----+"
      ]
     },
     "execution_count": 59,
     "metadata": {},
     "output_type": "execute_result"
    }
   ],
   "source": [
    "%%sql\n",
    "PRAGMA table_info(item);\n"
   ]
  },
  {
   "cell_type": "code",
   "execution_count": 49,
   "id": "e96900a2-32ab-4121-b1ad-92ebd7f9da69",
   "metadata": {},
   "outputs": [
    {
     "data": {
      "text/html": [
       "<span style=\"None\">Running query in &#x27;sqlite:///libray.db&#x27;</span>"
      ],
      "text/plain": [
       "Running query in 'sqlite:///libray.db'"
      ]
     },
     "metadata": {},
     "output_type": "display_data"
    },
    {
     "data": {
      "text/html": [
       "<table>\n",
       "    <thead>\n",
       "        <tr>\n",
       "        </tr>\n",
       "    </thead>\n",
       "    <tbody>\n",
       "    </tbody>\n",
       "</table>"
      ],
      "text/plain": [
       "++\n",
       "||\n",
       "++\n",
       "++"
      ]
     },
     "execution_count": 49,
     "metadata": {},
     "output_type": "execute_result"
    }
   ],
   "source": [
    "%%sql \n",
    "-- SELECT name FROM sqlite_master WHERE type='table';\n",
    "\n",
    "--works\n",
    "SELECT * from item;\n",
    "-- SELECT COUNT(*) from borrowedBy;\n",
    "-- SELECT COUNT(*) from item;\n",
    "-- SELECT COUNT(*) from patron;\n",
    "-- SELECT COUNT(*) from socialRooms;\n",
    "-- SELECT COUNT(*) from events;\n",
    "-- SELECT COUNT(*) from donations;\n",
    "-- SELECT COUNT(*) from askLibrian;\n",
    "-- SELECT COUNT(*) from volunteers;\n",
    "\n",
    "\n",
    "\n"
   ]
  },
  {
   "cell_type": "code",
   "execution_count": 103,
   "id": "e847980c-abdb-4b3b-b437-16f9eeb36248",
   "metadata": {},
   "outputs": [
    {
     "data": {
      "text/html": [
       "<span style=\"None\">Running query in &#x27;sqlite:///libray.db&#x27;</span>"
      ],
      "text/plain": [
       "Running query in 'sqlite:///libray.db'"
      ]
     },
     "metadata": {},
     "output_type": "display_data"
    },
    {
     "data": {
      "text/html": [
       "<table>\n",
       "    <thead>\n",
       "        <tr>\n",
       "        </tr>\n",
       "    </thead>\n",
       "    <tbody>\n",
       "    </tbody>\n",
       "</table>"
      ],
      "text/plain": [
       "++\n",
       "||\n",
       "++\n",
       "++"
      ]
     },
     "execution_count": 103,
     "metadata": {},
     "output_type": "execute_result"
    }
   ],
   "source": [
    "%%sql\n",
    "PRAGMA foreign_keys = OFF;\n",
    "\n",
    "DROP TABLE IF EXISTS registerEvent;\n",
    "DROP TABLE IF EXISTS volunteers;\n",
    "DROP TABLE IF EXISTS donations;\n",
    "DROP TABLE IF EXISTS askLibrarian;\n",
    "DROP TABLE IF EXISTS futureItems;\n",
    "DROP TABLE IF EXISTS borrowedBy;\n",
    "DROP TABLE IF EXISTS events;\n",
    "DROP TABLE IF EXISTS socialRooms;\n",
    "DROP TABLE IF EXISTS personnel;\n",
    "DROP TABLE IF EXISTS patron;\n",
    "DROP TABLE IF EXISTS item;"
   ]
  },
  {
   "cell_type": "code",
   "execution_count": 107,
   "id": "4a951504-c13a-48f3-acb8-c1c170ff7bbb",
   "metadata": {},
   "outputs": [
    {
     "data": {
      "text/html": [
       "<span style=\"None\">Running query in &#x27;sqlite:///libray.db&#x27;</span>"
      ],
      "text/plain": [
       "Running query in 'sqlite:///libray.db'"
      ]
     },
     "metadata": {},
     "output_type": "display_data"
    },
    {
     "data": {
      "text/html": [
       "<span style=\"color: green\">10 rows affected.</span>"
      ],
      "text/plain": [
       "10 rows affected."
      ]
     },
     "metadata": {},
     "output_type": "display_data"
    },
    {
     "data": {
      "text/html": [
       "<table>\n",
       "    <thead>\n",
       "        <tr>\n",
       "        </tr>\n",
       "    </thead>\n",
       "    <tbody>\n",
       "    </tbody>\n",
       "</table>"
      ],
      "text/plain": [
       "++\n",
       "||\n",
       "++\n",
       "++"
      ]
     },
     "execution_count": 107,
     "metadata": {},
     "output_type": "execute_result"
    }
   ],
   "source": [
    "%%sql\n",
    "-- Insert sample data for socialRooms\n",
    "INSERT INTO socialRooms (roomNum, isAvailable, capacity) VALUES\n",
    "(500, 1, 50),\n",
    "(501, 1, 100),\n",
    "(502, 1, 30),\n",
    "(503, 1, 40),\n",
    "(504, 1, 60),\n",
    "(505, 1, 70),\n",
    "(506, 1, 80),\n",
    "(507, 1, 90),\n",
    "(508, 1, 100),\n",
    "(509, 1, 30);"
   ]
  },
  {
   "cell_type": "code",
   "execution_count": 109,
   "id": "475c6dc2-1ae5-4207-be8b-e52e8aabb202",
   "metadata": {},
   "outputs": [
    {
     "data": {
      "text/html": [
       "<span style=\"None\">Running query in &#x27;sqlite:///libray.db&#x27;</span>"
      ],
      "text/plain": [
       "Running query in 'sqlite:///libray.db'"
      ]
     },
     "metadata": {},
     "output_type": "display_data"
    },
    {
     "data": {
      "text/html": [
       "<span style=\"color: green\">10 rows affected.</span>"
      ],
      "text/plain": [
       "10 rows affected."
      ]
     },
     "metadata": {},
     "output_type": "display_data"
    },
    {
     "data": {
      "text/html": [
       "<span style=\"color: green\">10 rows affected.</span>"
      ],
      "text/plain": [
       "10 rows affected."
      ]
     },
     "metadata": {},
     "output_type": "display_data"
    },
    {
     "data": {
      "text/html": [
       "<span style=\"color: green\">10 rows affected.</span>"
      ],
      "text/plain": [
       "10 rows affected."
      ]
     },
     "metadata": {},
     "output_type": "display_data"
    },
    {
     "data": {
      "text/html": [
       "<span style=\"color: green\">10 rows affected.</span>"
      ],
      "text/plain": [
       "10 rows affected."
      ]
     },
     "metadata": {},
     "output_type": "display_data"
    },
    {
     "data": {
      "text/html": [
       "<table>\n",
       "    <thead>\n",
       "        <tr>\n",
       "        </tr>\n",
       "    </thead>\n",
       "    <tbody>\n",
       "    </tbody>\n",
       "</table>"
      ],
      "text/plain": [
       "++\n",
       "||\n",
       "++\n",
       "++"
      ]
     },
     "execution_count": 109,
     "metadata": {},
     "output_type": "execute_result"
    }
   ],
   "source": [
    "%%sql\n",
    "-- Insert sample data for events\n",
    "INSERT INTO events (eventID, eventName, eventType, description, audienceType, eventDate, startTime, endTime, roomNum) VALUES\n",
    "(400, 'Book Club Meeting', 'Discussion', 'Monthly book club meetup', 'Adults', '2024-04-01', '18:00:00', '20:00:00', 500),\n",
    "(401, 'Tech Talk', 'Seminar', 'AI and future trends', 'General', '2024-04-05', '14:00:00', '16:00:00', 501),\n",
    "(402, 'Story Time', 'Reading', 'Children storytelling session', 'Children', '2024-04-10', '10:00:00', '11:30:00', 502),\n",
    "(403, 'Poetry Night', 'Performance', 'Open mic poetry', 'Teens', '2024-04-12', '19:00:00', '21:00:00', 503),\n",
    "(404, 'Chess Tournament', 'Competition', 'Annual chess contest', 'General', '2024-04-15', '10:00:00', '15:00:00', 504),\n",
    "(405, 'Coding Workshop', 'Workshop', 'Intro to Python', 'Teens', '2024-04-18', '13:00:00', '16:00:00', 505),\n",
    "(406, 'Author Meet & Greet', 'Discussion', 'Q&A with famous author', 'General', '2024-04-22', '17:00:00', '19:00:00', 506),\n",
    "(407, 'Film Screening', 'Entertainment', 'Classic movie night', 'General', '2024-04-25', '20:00:00', '22:30:00', 507),\n",
    "(408, 'Library Game Night', 'Social', 'Board games and card games for all ages', 'General', '2024-04-28', '17:00:00', '20:00:00', 508),\n",
    "(409, 'Science Fair', 'Educational', 'Annual community science fair', 'Teens', '2024-04-30', '10:00:00', '15:00:00', 509);\n",
    "-- Insert sample data for item\n",
    "\n",
    "INSERT INTO item (\n",
    "    title,\n",
    "    author,\n",
    "    publicationYear,\n",
    "    genre,\n",
    "    itemType,\n",
    "    isAvailable,\n",
    "    location\n",
    ") VALUES\n",
    "    ('To Kill a Mockingbird', 'Harper Lee', 1960, 'Fiction', 'Book', 1, 'Shelf A1'),\n",
    "    ('1984', 'George Orwell', 1949, 'Dystopian', 'Book', 1, 'Shelf A2'),\n",
    "    ('The Catcher in the Rye', 'J.D. Salinger', 1951, 'Classic', 'Book', 1, 'Shelf B1'),\n",
    "    ('Sapiens', 'Yuval Noah Harari', 2011, 'Non-fiction', 'Book', 1, 'Shelf C1'),\n",
    "    ('Inception', 'Christopher Nolan', 2010, 'Sci-Fi', 'DVD', 1, 'Shelf D1'),\n",
    "    ('The Matrix', 'The Wachowskis', 1999, 'Sci-Fi', 'DVD', 1, 'Shelf D2'),\n",
    "    ('Interstellar', 'Christopher Nolan', 2014, 'Sci-Fi', 'DVD', 1, 'Shelf D3'),\n",
    "    ('The Godfather', 'Mario Puzo', 1972, 'Crime', 'DVD', 1, 'Shelf D4'),\n",
    "    ('Harry Potter and the Sorcerer''s Stone', 'J.K. Rowling', 1997, 'Fantasy', 'Book', 1, 'Shelf B2'),\n",
    "    ('The Great Gatsby', 'F. Scott Fitzgerald', 1925, 'Classic', 'Book', 1, 'Shelf B3');                     \n",
    "\n",
    "\n",
    "-- -- Insert sample data for personnel\n",
    "INSERT INTO personnel (staffID, firstName, lastName, position, phoneNum, isActive) VALUES\n",
    "(200, 'Alice', 'Johnson', 'Librarian', '1234567890', 1),\n",
    "(201, 'Bob', 'Smith', 'Assistant', '1234567891', 1),\n",
    "(202, 'Charlie', 'Brown', 'Manager', '1234567892', 1),\n",
    "(203, 'David', 'White', 'Technician', '1234567893', 1),\n",
    "(204, 'Eve', 'Black', 'Custodian', '1234567894', 1),\n",
    "(205, 'Frank', 'Green', 'Security', '1234567895', 1),\n",
    "(206, 'Grace', 'Blue', 'Archivist', '1234567896', 1),\n",
    "(207, 'Hank', 'Red', 'IT Support', '1234567897', 1),\n",
    "(208, 'Ivy', 'Yellow', 'Researcher', '1234567898', 1),\n",
    "(209, 'Jack', 'Gray', 'Volunteer Coordinator', '1234567899', 1);\n",
    "-- -- Insert sample data for user\n",
    "INSERT INTO patron (firstName, lastName, phoneNum) VALUES\n",
    "('John', 'Doe', '9876543210'),\n",
    "('Jane', 'Doe', '9876543211'),\n",
    "('Emily', 'Clark', '9876543212'),\n",
    "('Michael', 'Brown', '9876543213'),\n",
    "('Sarah', 'Johnson', '9876543214'),\n",
    "('Chris', 'Lee', '9876543215'),\n",
    "('Anna', 'Taylor','9876543216'),\n",
    "('David', 'Wilson', '9876543217'),\n",
    "('Emma', 'Martinez','9876543218'),\n",
    "('James', 'Anderson', '9876543219');"
   ]
  },
  {
   "cell_type": "code",
   "execution_count": 111,
   "id": "a3a6bd48-bdca-45b5-a880-dd80d0db86d5",
   "metadata": {},
   "outputs": [
    {
     "data": {
      "text/html": [
       "<span style=\"None\">Running query in &#x27;sqlite:///libray.db&#x27;</span>"
      ],
      "text/plain": [
       "Running query in 'sqlite:///libray.db'"
      ]
     },
     "metadata": {},
     "output_type": "display_data"
    },
    {
     "data": {
      "text/html": [
       "<table>\n",
       "    <thead>\n",
       "        <tr>\n",
       "            <th>userID</th>\n",
       "            <th>firstName</th>\n",
       "            <th>lastName</th>\n",
       "            <th>phoneNum</th>\n",
       "        </tr>\n",
       "    </thead>\n",
       "    <tbody>\n",
       "        <tr>\n",
       "            <td>1</td>\n",
       "            <td>John</td>\n",
       "            <td>Doe</td>\n",
       "            <td>9876543210</td>\n",
       "        </tr>\n",
       "        <tr>\n",
       "            <td>2</td>\n",
       "            <td>Jane</td>\n",
       "            <td>Doe</td>\n",
       "            <td>9876543211</td>\n",
       "        </tr>\n",
       "        <tr>\n",
       "            <td>3</td>\n",
       "            <td>Emily</td>\n",
       "            <td>Clark</td>\n",
       "            <td>9876543212</td>\n",
       "        </tr>\n",
       "        <tr>\n",
       "            <td>4</td>\n",
       "            <td>Michael</td>\n",
       "            <td>Brown</td>\n",
       "            <td>9876543213</td>\n",
       "        </tr>\n",
       "        <tr>\n",
       "            <td>5</td>\n",
       "            <td>Sarah</td>\n",
       "            <td>Johnson</td>\n",
       "            <td>9876543214</td>\n",
       "        </tr>\n",
       "        <tr>\n",
       "            <td>6</td>\n",
       "            <td>Chris</td>\n",
       "            <td>Lee</td>\n",
       "            <td>9876543215</td>\n",
       "        </tr>\n",
       "        <tr>\n",
       "            <td>7</td>\n",
       "            <td>Anna</td>\n",
       "            <td>Taylor</td>\n",
       "            <td>9876543216</td>\n",
       "        </tr>\n",
       "        <tr>\n",
       "            <td>8</td>\n",
       "            <td>David</td>\n",
       "            <td>Wilson</td>\n",
       "            <td>9876543217</td>\n",
       "        </tr>\n",
       "        <tr>\n",
       "            <td>9</td>\n",
       "            <td>Emma</td>\n",
       "            <td>Martinez</td>\n",
       "            <td>9876543218</td>\n",
       "        </tr>\n",
       "        <tr>\n",
       "            <td>10</td>\n",
       "            <td>James</td>\n",
       "            <td>Anderson</td>\n",
       "            <td>9876543219</td>\n",
       "        </tr>\n",
       "    </tbody>\n",
       "</table>"
      ],
      "text/plain": [
       "+--------+-----------+----------+------------+\n",
       "| userID | firstName | lastName |  phoneNum  |\n",
       "+--------+-----------+----------+------------+\n",
       "|   1    |    John   |   Doe    | 9876543210 |\n",
       "|   2    |    Jane   |   Doe    | 9876543211 |\n",
       "|   3    |   Emily   |  Clark   | 9876543212 |\n",
       "|   4    |  Michael  |  Brown   | 9876543213 |\n",
       "|   5    |   Sarah   | Johnson  | 9876543214 |\n",
       "|   6    |   Chris   |   Lee    | 9876543215 |\n",
       "|   7    |    Anna   |  Taylor  | 9876543216 |\n",
       "|   8    |   David   |  Wilson  | 9876543217 |\n",
       "|   9    |    Emma   | Martinez | 9876543218 |\n",
       "|   10   |   James   | Anderson | 9876543219 |\n",
       "+--------+-----------+----------+------------+"
      ]
     },
     "execution_count": 111,
     "metadata": {},
     "output_type": "execute_result"
    }
   ],
   "source": [
    "%%sql\n",
    "SELECT * FROM patron;"
   ]
  },
  {
   "cell_type": "code",
   "execution_count": 115,
   "id": "133dd675-90cb-4e8a-bc8a-dc692c82889a",
   "metadata": {},
   "outputs": [
    {
     "data": {
      "text/html": [
       "<span style=\"None\">Running query in &#x27;sqlite:///libray.db&#x27;</span>"
      ],
      "text/plain": [
       "Running query in 'sqlite:///libray.db'"
      ]
     },
     "metadata": {},
     "output_type": "display_data"
    },
    {
     "data": {
      "text/html": [
       "<table>\n",
       "    <thead>\n",
       "        <tr>\n",
       "            <th>itemID</th>\n",
       "            <th>title</th>\n",
       "            <th>author</th>\n",
       "            <th>publicationYear</th>\n",
       "            <th>genre</th>\n",
       "            <th>itemType</th>\n",
       "            <th>isAvailable</th>\n",
       "            <th>location</th>\n",
       "        </tr>\n",
       "    </thead>\n",
       "    <tbody>\n",
       "        <tr>\n",
       "            <td>1</td>\n",
       "            <td>To Kill a Mockingbird</td>\n",
       "            <td>Harper Lee</td>\n",
       "            <td>1960</td>\n",
       "            <td>Fiction</td>\n",
       "            <td>Book</td>\n",
       "            <td>1</td>\n",
       "            <td>Shelf A1</td>\n",
       "        </tr>\n",
       "        <tr>\n",
       "            <td>2</td>\n",
       "            <td>1984</td>\n",
       "            <td>George Orwell</td>\n",
       "            <td>1949</td>\n",
       "            <td>Dystopian</td>\n",
       "            <td>Book</td>\n",
       "            <td>1</td>\n",
       "            <td>Shelf A2</td>\n",
       "        </tr>\n",
       "        <tr>\n",
       "            <td>3</td>\n",
       "            <td>The Catcher in the Rye</td>\n",
       "            <td>J.D. Salinger</td>\n",
       "            <td>1951</td>\n",
       "            <td>Classic</td>\n",
       "            <td>Book</td>\n",
       "            <td>1</td>\n",
       "            <td>Shelf B1</td>\n",
       "        </tr>\n",
       "        <tr>\n",
       "            <td>4</td>\n",
       "            <td>Sapiens</td>\n",
       "            <td>Yuval Noah Harari</td>\n",
       "            <td>2011</td>\n",
       "            <td>Non-fiction</td>\n",
       "            <td>Book</td>\n",
       "            <td>1</td>\n",
       "            <td>Shelf C1</td>\n",
       "        </tr>\n",
       "        <tr>\n",
       "            <td>5</td>\n",
       "            <td>Inception</td>\n",
       "            <td>Christopher Nolan</td>\n",
       "            <td>2010</td>\n",
       "            <td>Sci-Fi</td>\n",
       "            <td>DVD</td>\n",
       "            <td>1</td>\n",
       "            <td>Shelf D1</td>\n",
       "        </tr>\n",
       "        <tr>\n",
       "            <td>6</td>\n",
       "            <td>The Matrix</td>\n",
       "            <td>The Wachowskis</td>\n",
       "            <td>1999</td>\n",
       "            <td>Sci-Fi</td>\n",
       "            <td>DVD</td>\n",
       "            <td>1</td>\n",
       "            <td>Shelf D2</td>\n",
       "        </tr>\n",
       "        <tr>\n",
       "            <td>7</td>\n",
       "            <td>Interstellar</td>\n",
       "            <td>Christopher Nolan</td>\n",
       "            <td>2014</td>\n",
       "            <td>Sci-Fi</td>\n",
       "            <td>DVD</td>\n",
       "            <td>1</td>\n",
       "            <td>Shelf D3</td>\n",
       "        </tr>\n",
       "        <tr>\n",
       "            <td>8</td>\n",
       "            <td>The Godfather</td>\n",
       "            <td>Mario Puzo</td>\n",
       "            <td>1972</td>\n",
       "            <td>Crime</td>\n",
       "            <td>DVD</td>\n",
       "            <td>1</td>\n",
       "            <td>Shelf D4</td>\n",
       "        </tr>\n",
       "        <tr>\n",
       "            <td>9</td>\n",
       "            <td>Harry Potter and the Sorcerer's Stone</td>\n",
       "            <td>J.K. Rowling</td>\n",
       "            <td>1997</td>\n",
       "            <td>Fantasy</td>\n",
       "            <td>Book</td>\n",
       "            <td>1</td>\n",
       "            <td>Shelf B2</td>\n",
       "        </tr>\n",
       "        <tr>\n",
       "            <td>10</td>\n",
       "            <td>The Great Gatsby</td>\n",
       "            <td>F. Scott Fitzgerald</td>\n",
       "            <td>1925</td>\n",
       "            <td>Classic</td>\n",
       "            <td>Book</td>\n",
       "            <td>1</td>\n",
       "            <td>Shelf B3</td>\n",
       "        </tr>\n",
       "    </tbody>\n",
       "</table>"
      ],
      "text/plain": [
       "+--------+---------------------------------------+---------------------+-----------------+-------------+----------+-------------+----------+\n",
       "| itemID |                 title                 |        author       | publicationYear |    genre    | itemType | isAvailable | location |\n",
       "+--------+---------------------------------------+---------------------+-----------------+-------------+----------+-------------+----------+\n",
       "|   1    |         To Kill a Mockingbird         |      Harper Lee     |       1960      |   Fiction   |   Book   |      1      | Shelf A1 |\n",
       "|   2    |                  1984                 |    George Orwell    |       1949      |  Dystopian  |   Book   |      1      | Shelf A2 |\n",
       "|   3    |         The Catcher in the Rye        |    J.D. Salinger    |       1951      |   Classic   |   Book   |      1      | Shelf B1 |\n",
       "|   4    |                Sapiens                |  Yuval Noah Harari  |       2011      | Non-fiction |   Book   |      1      | Shelf C1 |\n",
       "|   5    |               Inception               |  Christopher Nolan  |       2010      |    Sci-Fi   |   DVD    |      1      | Shelf D1 |\n",
       "|   6    |               The Matrix              |    The Wachowskis   |       1999      |    Sci-Fi   |   DVD    |      1      | Shelf D2 |\n",
       "|   7    |              Interstellar             |  Christopher Nolan  |       2014      |    Sci-Fi   |   DVD    |      1      | Shelf D3 |\n",
       "|   8    |             The Godfather             |      Mario Puzo     |       1972      |    Crime    |   DVD    |      1      | Shelf D4 |\n",
       "|   9    | Harry Potter and the Sorcerer's Stone |     J.K. Rowling    |       1997      |   Fantasy   |   Book   |      1      | Shelf B2 |\n",
       "|   10   |            The Great Gatsby           | F. Scott Fitzgerald |       1925      |   Classic   |   Book   |      1      | Shelf B3 |\n",
       "+--------+---------------------------------------+---------------------+-----------------+-------------+----------+-------------+----------+"
      ]
     },
     "execution_count": 115,
     "metadata": {},
     "output_type": "execute_result"
    }
   ],
   "source": [
    "%%sql\n",
    "SELECT * FROM item;"
   ]
  },
  {
   "cell_type": "code",
   "execution_count": 127,
   "id": "49f0e9e8-4b00-4901-af14-162ba368f2ab",
   "metadata": {
    "scrolled": true
   },
   "outputs": [
    {
     "data": {
      "text/html": [
       "<span style=\"None\">Running query in &#x27;sqlite:///libray.db&#x27;</span>"
      ],
      "text/plain": [
       "Running query in 'sqlite:///libray.db'"
      ]
     },
     "metadata": {},
     "output_type": "display_data"
    },
    {
     "data": {
      "text/html": [
       "<table>\n",
       "    <thead>\n",
       "        <tr>\n",
       "            <th>staffID</th>\n",
       "            <th>firstName</th>\n",
       "            <th>lastName</th>\n",
       "            <th>POSITION</th>\n",
       "            <th>phoneNum</th>\n",
       "            <th>isActive</th>\n",
       "        </tr>\n",
       "    </thead>\n",
       "    <tbody>\n",
       "        <tr>\n",
       "            <td>200</td>\n",
       "            <td>Alice</td>\n",
       "            <td>Johnson</td>\n",
       "            <td>Librarian</td>\n",
       "            <td>1234567890</td>\n",
       "            <td>1</td>\n",
       "        </tr>\n",
       "        <tr>\n",
       "            <td>201</td>\n",
       "            <td>Bob</td>\n",
       "            <td>Smith</td>\n",
       "            <td>Assistant</td>\n",
       "            <td>1234567891</td>\n",
       "            <td>1</td>\n",
       "        </tr>\n",
       "        <tr>\n",
       "            <td>202</td>\n",
       "            <td>Charlie</td>\n",
       "            <td>Brown</td>\n",
       "            <td>Manager</td>\n",
       "            <td>1234567892</td>\n",
       "            <td>1</td>\n",
       "        </tr>\n",
       "        <tr>\n",
       "            <td>203</td>\n",
       "            <td>David</td>\n",
       "            <td>White</td>\n",
       "            <td>Technician</td>\n",
       "            <td>1234567893</td>\n",
       "            <td>1</td>\n",
       "        </tr>\n",
       "        <tr>\n",
       "            <td>204</td>\n",
       "            <td>Eve</td>\n",
       "            <td>Black</td>\n",
       "            <td>Custodian</td>\n",
       "            <td>1234567894</td>\n",
       "            <td>1</td>\n",
       "        </tr>\n",
       "        <tr>\n",
       "            <td>205</td>\n",
       "            <td>Frank</td>\n",
       "            <td>Green</td>\n",
       "            <td>Security</td>\n",
       "            <td>1234567895</td>\n",
       "            <td>1</td>\n",
       "        </tr>\n",
       "        <tr>\n",
       "            <td>206</td>\n",
       "            <td>Grace</td>\n",
       "            <td>Blue</td>\n",
       "            <td>Archivist</td>\n",
       "            <td>1234567896</td>\n",
       "            <td>1</td>\n",
       "        </tr>\n",
       "        <tr>\n",
       "            <td>207</td>\n",
       "            <td>Hank</td>\n",
       "            <td>Red</td>\n",
       "            <td>IT Support</td>\n",
       "            <td>1234567897</td>\n",
       "            <td>1</td>\n",
       "        </tr>\n",
       "        <tr>\n",
       "            <td>208</td>\n",
       "            <td>Ivy</td>\n",
       "            <td>Yellow</td>\n",
       "            <td>Researcher</td>\n",
       "            <td>1234567898</td>\n",
       "            <td>1</td>\n",
       "        </tr>\n",
       "        <tr>\n",
       "            <td>209</td>\n",
       "            <td>Jack</td>\n",
       "            <td>Gray</td>\n",
       "            <td>Volunteer Coordinator</td>\n",
       "            <td>1234567899</td>\n",
       "            <td>1</td>\n",
       "        </tr>\n",
       "    </tbody>\n",
       "</table>"
      ],
      "text/plain": [
       "+---------+-----------+----------+-----------------------+------------+----------+\n",
       "| staffID | firstName | lastName |        POSITION       |  phoneNum  | isActive |\n",
       "+---------+-----------+----------+-----------------------+------------+----------+\n",
       "|   200   |   Alice   | Johnson  |       Librarian       | 1234567890 |    1     |\n",
       "|   201   |    Bob    |  Smith   |       Assistant       | 1234567891 |    1     |\n",
       "|   202   |  Charlie  |  Brown   |        Manager        | 1234567892 |    1     |\n",
       "|   203   |   David   |  White   |       Technician      | 1234567893 |    1     |\n",
       "|   204   |    Eve    |  Black   |       Custodian       | 1234567894 |    1     |\n",
       "|   205   |   Frank   |  Green   |        Security       | 1234567895 |    1     |\n",
       "|   206   |   Grace   |   Blue   |       Archivist       | 1234567896 |    1     |\n",
       "|   207   |    Hank   |   Red    |       IT Support      | 1234567897 |    1     |\n",
       "|   208   |    Ivy    |  Yellow  |       Researcher      | 1234567898 |    1     |\n",
       "|   209   |    Jack   |   Gray   | Volunteer Coordinator | 1234567899 |    1     |\n",
       "+---------+-----------+----------+-----------------------+------------+----------+"
      ]
     },
     "execution_count": 127,
     "metadata": {},
     "output_type": "execute_result"
    }
   ],
   "source": [
    "%%sql\n",
    "SELECT * FROM personnel;"
   ]
  },
  {
   "cell_type": "code",
   "execution_count": 119,
   "id": "f84d4eb8-f222-4d92-bb3c-ed9c2b56a73a",
   "metadata": {},
   "outputs": [
    {
     "data": {
      "text/html": [
       "<span style=\"None\">Running query in &#x27;sqlite:///libray.db&#x27;</span>"
      ],
      "text/plain": [
       "Running query in 'sqlite:///libray.db'"
      ]
     },
     "metadata": {},
     "output_type": "display_data"
    },
    {
     "data": {
      "text/html": [
       "<span style=\"color: green\">10 rows affected.</span>"
      ],
      "text/plain": [
       "10 rows affected."
      ]
     },
     "metadata": {},
     "output_type": "display_data"
    },
    {
     "data": {
      "text/html": [
       "<table>\n",
       "    <thead>\n",
       "        <tr>\n",
       "        </tr>\n",
       "    </thead>\n",
       "    <tbody>\n",
       "    </tbody>\n",
       "</table>"
      ],
      "text/plain": [
       "++\n",
       "||\n",
       "++\n",
       "++"
      ]
     },
     "execution_count": 119,
     "metadata": {},
     "output_type": "execute_result"
    }
   ],
   "source": [
    "%%sql\n",
    "-- Insert sample data for borrowedBy\n",
    "INSERT INTO borrowedBy (borrowingID, itemID, userID, borrowDate, returnDate, fineAmnt) VALUES\n",
    "(1, 1, 1, '2024-03-01', '2024-03-15', 0.0),\n",
    "(2, 2, 2, '2024-03-02', '2024-03-16', 0.0),\n",
    "(3, 3, 3, '2024-03-05', '2024-03-19', 0.0),\n",
    "(4, 4, 4, '2024-03-10', '2024-03-24', 0.0),\n",
    "(5, 5, 5, '2024-03-15', '2024-03-29', 0.0),\n",
    "(6, 6, 6, '2024-03-20', '2024-04-03', 1.5),\n",
    "(7, 7, 7, '2024-03-22', '2024-04-05', 0.0),\n",
    "(8, 8, 8, '2024-03-25', '2024-04-08', 2.0),\n",
    "(9, 9, 9, '2024-03-27', '2024-04-10', 0.0),\n",
    "(10, 10, 10, '2024-03-30', '2024-04-13', 0.0);"
   ]
  },
  {
   "cell_type": "code",
   "execution_count": 129,
   "id": "b26932c9-95d7-409e-a8cf-f42bb341645d",
   "metadata": {},
   "outputs": [
    {
     "data": {
      "text/html": [
       "<span style=\"None\">Running query in &#x27;sqlite:///libray.db&#x27;</span>"
      ],
      "text/plain": [
       "Running query in 'sqlite:///libray.db'"
      ]
     },
     "metadata": {},
     "output_type": "display_data"
    },
    {
     "data": {
      "text/html": [
       "<span style=\"color: green\">10 rows affected.</span>"
      ],
      "text/plain": [
       "10 rows affected."
      ]
     },
     "metadata": {},
     "output_type": "display_data"
    },
    {
     "data": {
      "text/html": [
       "<span style=\"color: green\">10 rows affected.</span>"
      ],
      "text/plain": [
       "10 rows affected."
      ]
     },
     "metadata": {},
     "output_type": "display_data"
    },
    {
     "data": {
      "text/html": [
       "<span style=\"color: green\">10 rows affected.</span>"
      ],
      "text/plain": [
       "10 rows affected."
      ]
     },
     "metadata": {},
     "output_type": "display_data"
    },
    {
     "data": {
      "text/html": [
       "<span style=\"color: green\">10 rows affected.</span>"
      ],
      "text/plain": [
       "10 rows affected."
      ]
     },
     "metadata": {},
     "output_type": "display_data"
    },
    {
     "data": {
      "text/html": [
       "<span style=\"color: green\">10 rows affected.</span>"
      ],
      "text/plain": [
       "10 rows affected."
      ]
     },
     "metadata": {},
     "output_type": "display_data"
    },
    {
     "data": {
      "text/html": [
       "<table>\n",
       "    <thead>\n",
       "        <tr>\n",
       "        </tr>\n",
       "    </thead>\n",
       "    <tbody>\n",
       "    </tbody>\n",
       "</table>"
      ],
      "text/plain": [
       "++\n",
       "||\n",
       "++\n",
       "++"
      ]
     },
     "execution_count": 129,
     "metadata": {},
     "output_type": "execute_result"
    }
   ],
   "source": [
    "%%sql\n",
    "INSERT INTO volunteers (userID, staffID) VALUES\n",
    "(1, 200),\n",
    "(2, 201),\n",
    "(3, 202),\n",
    "(4, 203),\n",
    "(5, 204),\n",
    "(6, 205),\n",
    "(7, 206),\n",
    "(8, 207),\n",
    "(9, 208),\n",
    "(10, 209);\n",
    "\n",
    "INSERT INTO donations (donationID, userID, itemID, donationDate) VALUES\n",
    "(500, 1, 1, '2024-03-01'),\n",
    "(501, 2, 2, '2024-03-05'),\n",
    "(502, 3, 3, '2024-03-08'),\n",
    "(503, 4, 4, '2024-03-12'),\n",
    "(504, 5, 5, '2024-03-15'),\n",
    "(505, 6, 6, '2024-03-18'),\n",
    "(506, 7, 7, '2024-03-22'),\n",
    "(507, 8, 8, '2024-03-25'),\n",
    "(508, 9, 9, '2024-03-28'),\n",
    "(509, 10, 10, '2024-03-30');\n",
    "\n",
    "INSERT INTO askLibrarian (requestID, userID, staffID, requestTime, description, status) VALUES\n",
    "(600, 1, 200, '2024-03-01 10:15:00', 'Inquiry about book availability', 0),\n",
    "(601, 2, 201, '2024-03-02 14:30:00', 'Help with research materials', 1),\n",
    "(602, 3, 202, '2024-03-03 09:45:00', 'Issue with borrowed book return', 2),\n",
    "(603, 4, 203, '2024-03-04 13:10:00', 'Request for book recommendation', 0),\n",
    "(604, 5, 204, '2024-03-05 16:20:00', 'Guidance on digital resources', 1),\n",
    "(605, 6, 205, '2024-03-06 11:05:00', 'Request for room booking', 2),\n",
    "(606, 7, 206, '2024-03-07 12:40:00', 'Assistance with library membership', 0),\n",
    "(607, 8, 207, '2024-03-08 15:00:00', 'Lost item inquiry', 1),\n",
    "(608, 9, 208, '2024-03-09 17:25:00', 'Help with citation formatting', 2),\n",
    "(609, 10, 209, '2024-03-10 08:50:00', 'Request for event details', 0);\n",
    "\n",
    "INSERT INTO registerEvent (eventID, userID) VALUES\n",
    "(400, 1),\n",
    "(401, 2),\n",
    "(402, 3),\n",
    "(403, 4),\n",
    "(404, 5),\n",
    "(405, 6),\n",
    "(406, 7),\n",
    "(407, 8),\n",
    "(408, 9),\n",
    "(409, 10);\n",
    "INSERT INTO futureItems (itemID, expectedArrivalDate) VALUES\n",
    "(1, '2024-05-01'),\n",
    "(2, '2024-05-05'),\n",
    "(3, '2024-05-10'),\n",
    "(4, '2024-05-15'),\n",
    "(5, '2024-05-20'),\n",
    "(6, '2024-05-25'),\n",
    "(7, '2024-06-01'),\n",
    "(8, '2024-06-05'),\n",
    "(9, '2024-06-10'),\n",
    "(10, '2024-06-15');"
   ]
  },
  {
   "cell_type": "code",
   "execution_count": 21,
   "id": "9b311fab-b61e-4430-8980-1decc8224dc3",
   "metadata": {},
   "outputs": [
    {
     "data": {
      "text/html": [
       "<span style=\"None\">Running query in &#x27;sqlite:///library.db&#x27;</span>"
      ],
      "text/plain": [
       "Running query in 'sqlite:///library.db'"
      ]
     },
     "metadata": {},
     "output_type": "display_data"
    },
    {
     "data": {
      "text/html": [
       "<span style=\"color: green\">10 rows affected.</span>"
      ],
      "text/plain": [
       "10 rows affected."
      ]
     },
     "metadata": {},
     "output_type": "display_data"
    },
    {
     "data": {
      "text/html": [
       "<table>\n",
       "    <thead>\n",
       "        <tr>\n",
       "        </tr>\n",
       "    </thead>\n",
       "    <tbody>\n",
       "    </tbody>\n",
       "</table>"
      ],
      "text/plain": [
       "++\n",
       "||\n",
       "++\n",
       "++"
      ]
     },
     "execution_count": 21,
     "metadata": {},
     "output_type": "execute_result"
    }
   ],
   "source": [
    "%%sql\n",
    "CREATE TABLE donations_new (\n",
    "    donationID INTEGER PRIMARY KEY AUTOINCREMENT,\n",
    "    userID INTEGER NOT NULL,\n",
    "    itemID INTEGER NOT NULL,\n",
    "    donationDate TEXT CHECK (donationDate LIKE '____-__-__'),\n",
    "    FOREIGN KEY (itemID) REFERENCES item (itemID) ON DELETE CASCADE,\n",
    "    FOREIGN KEY (userID) REFERENCES patron (userID) ON DELETE CASCADE\n",
    ");\n",
    "\n",
    "-- Step 2: Copy data without borrowingID (fresh new IDs will be generated)\n",
    "INSERT INTO donations_new (userID, itemID, donationDate)\n",
    "SELECT userID, itemID, donationDate FROM donations;\n",
    "\n",
    "-- Step 3: Drop the old table\n",
    "DROP TABLE donations;\n",
    "\n",
    "-- Step 4: Rename the new table\n",
    "ALTER TABLE donations_new RENAME TO donations;"
   ]
  },
  {
   "cell_type": "code",
   "execution_count": 7,
   "id": "c9d36765-c880-44b2-bb71-15aa4393480f",
   "metadata": {},
   "outputs": [
    {
     "data": {
      "text/html": [
       "<span style=\"None\">Running query in &#x27;sqlite:///library.db&#x27;</span>"
      ],
      "text/plain": [
       "Running query in 'sqlite:///library.db'"
      ]
     },
     "metadata": {},
     "output_type": "display_data"
    },
    {
     "data": {
      "text/html": [
       "<span style=\"color: green\">10 rows affected.</span>"
      ],
      "text/plain": [
       "10 rows affected."
      ]
     },
     "metadata": {},
     "output_type": "display_data"
    },
    {
     "data": {
      "text/html": [
       "<table>\n",
       "    <thead>\n",
       "        <tr>\n",
       "        </tr>\n",
       "    </thead>\n",
       "    <tbody>\n",
       "    </tbody>\n",
       "</table>"
      ],
      "text/plain": [
       "++\n",
       "||\n",
       "++\n",
       "++"
      ]
     },
     "execution_count": 7,
     "metadata": {},
     "output_type": "execute_result"
    }
   ],
   "source": [
    "%%sql\n",
    "UPDATE volunteers\n",
    "SET staffID = userID\n",
    "    WHERE userID BETWEEN 1 AND 10;"
   ]
  },
  {
   "cell_type": "code",
   "execution_count": 23,
   "id": "63c28cce-e008-44a5-add1-a7ca539ad5d6",
   "metadata": {},
   "outputs": [
    {
     "data": {
      "text/html": [
       "<span style=\"None\">Running query in &#x27;sqlite:///library.db&#x27;</span>"
      ],
      "text/plain": [
       "Running query in 'sqlite:///library.db'"
      ]
     },
     "metadata": {},
     "output_type": "display_data"
    },
    {
     "data": {
      "text/html": [
       "<table>\n",
       "    <thead>\n",
       "        <tr>\n",
       "            <th>donationID</th>\n",
       "            <th>userID</th>\n",
       "            <th>itemID</th>\n",
       "            <th>donationDate</th>\n",
       "        </tr>\n",
       "    </thead>\n",
       "    <tbody>\n",
       "        <tr>\n",
       "            <td>1</td>\n",
       "            <td>1</td>\n",
       "            <td>1</td>\n",
       "            <td>2024-03-01</td>\n",
       "        </tr>\n",
       "        <tr>\n",
       "            <td>2</td>\n",
       "            <td>2</td>\n",
       "            <td>2</td>\n",
       "            <td>2024-03-05</td>\n",
       "        </tr>\n",
       "        <tr>\n",
       "            <td>3</td>\n",
       "            <td>3</td>\n",
       "            <td>3</td>\n",
       "            <td>2024-03-08</td>\n",
       "        </tr>\n",
       "        <tr>\n",
       "            <td>4</td>\n",
       "            <td>4</td>\n",
       "            <td>4</td>\n",
       "            <td>2024-03-12</td>\n",
       "        </tr>\n",
       "        <tr>\n",
       "            <td>5</td>\n",
       "            <td>5</td>\n",
       "            <td>5</td>\n",
       "            <td>2024-03-15</td>\n",
       "        </tr>\n",
       "        <tr>\n",
       "            <td>6</td>\n",
       "            <td>6</td>\n",
       "            <td>6</td>\n",
       "            <td>2024-03-18</td>\n",
       "        </tr>\n",
       "        <tr>\n",
       "            <td>7</td>\n",
       "            <td>7</td>\n",
       "            <td>7</td>\n",
       "            <td>2024-03-22</td>\n",
       "        </tr>\n",
       "        <tr>\n",
       "            <td>8</td>\n",
       "            <td>8</td>\n",
       "            <td>8</td>\n",
       "            <td>2024-03-25</td>\n",
       "        </tr>\n",
       "        <tr>\n",
       "            <td>9</td>\n",
       "            <td>9</td>\n",
       "            <td>9</td>\n",
       "            <td>2024-03-28</td>\n",
       "        </tr>\n",
       "        <tr>\n",
       "            <td>10</td>\n",
       "            <td>10</td>\n",
       "            <td>10</td>\n",
       "            <td>2024-03-30</td>\n",
       "        </tr>\n",
       "    </tbody>\n",
       "</table>"
      ],
      "text/plain": [
       "+------------+--------+--------+--------------+\n",
       "| donationID | userID | itemID | donationDate |\n",
       "+------------+--------+--------+--------------+\n",
       "|     1      |   1    |   1    |  2024-03-01  |\n",
       "|     2      |   2    |   2    |  2024-03-05  |\n",
       "|     3      |   3    |   3    |  2024-03-08  |\n",
       "|     4      |   4    |   4    |  2024-03-12  |\n",
       "|     5      |   5    |   5    |  2024-03-15  |\n",
       "|     6      |   6    |   6    |  2024-03-18  |\n",
       "|     7      |   7    |   7    |  2024-03-22  |\n",
       "|     8      |   8    |   8    |  2024-03-25  |\n",
       "|     9      |   9    |   9    |  2024-03-28  |\n",
       "|     10     |   10   |   10   |  2024-03-30  |\n",
       "+------------+--------+--------+--------------+"
      ]
     },
     "execution_count": 23,
     "metadata": {},
     "output_type": "execute_result"
    }
   ],
   "source": [
    "%%sql\n",
    "SELECT * FROM donations;"
   ]
  },
  {
   "cell_type": "code",
   "execution_count": 13,
   "id": "77fdb049-cba4-4054-ae66-4521f46f2a56",
   "metadata": {},
   "outputs": [
    {
     "data": {
      "text/html": [
       "<span style=\"None\">Running query in &#x27;sqlite:///library.db&#x27;</span>"
      ],
      "text/plain": [
       "Running query in 'sqlite:///library.db'"
      ]
     },
     "metadata": {},
     "output_type": "display_data"
    },
    {
     "data": {
      "text/html": [
       "<span style=\"color: green\">10 rows affected.</span>"
      ],
      "text/plain": [
       "10 rows affected."
      ]
     },
     "metadata": {},
     "output_type": "display_data"
    },
    {
     "data": {
      "text/html": [
       "<table>\n",
       "    <thead>\n",
       "        <tr>\n",
       "        </tr>\n",
       "    </thead>\n",
       "    <tbody>\n",
       "    </tbody>\n",
       "</table>"
      ],
      "text/plain": [
       "++\n",
       "||\n",
       "++\n",
       "++"
      ]
     },
     "execution_count": 13,
     "metadata": {},
     "output_type": "execute_result"
    }
   ],
   "source": []
  },
  {
   "cell_type": "code",
   "execution_count": null,
   "id": "f62a0cbc-75b5-42f3-95e8-e0d7ad562c35",
   "metadata": {},
   "outputs": [],
   "source": []
  }
 ],
 "metadata": {
  "kernelspec": {
   "display_name": "Python [conda env:base] *",
   "language": "python",
   "name": "conda-base-py"
  },
  "language_info": {
   "codemirror_mode": {
    "name": "ipython",
    "version": 3
   },
   "file_extension": ".py",
   "mimetype": "text/x-python",
   "name": "python",
   "nbconvert_exporter": "python",
   "pygments_lexer": "ipython3",
   "version": "3.12.3"
  }
 },
 "nbformat": 4,
 "nbformat_minor": 5
}
