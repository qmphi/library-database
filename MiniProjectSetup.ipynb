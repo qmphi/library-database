{
 "cells": [
  {
   "cell_type": "code",
   "execution_count": 3,
   "id": "c8727261-278e-40ce-899e-8475a2a978b9",
   "metadata": {},
   "outputs": [
    {
     "data": {
      "text/html": [
       "<span style=\"None\">displaylimit: Value None will be treated as 0 (no limit)</span>"
      ],
      "text/plain": [
       "displaylimit: Value None will be treated as 0 (no limit)"
      ]
     },
     "metadata": {},
     "output_type": "display_data"
    },
    {
     "data": {
      "text/html": [
       "<span style=\"None\">Connecting to &#x27;sqlite:///libray.db&#x27;</span>"
      ],
      "text/plain": [
       "Connecting to 'sqlite:///libray.db'"
      ]
     },
     "metadata": {},
     "output_type": "display_data"
    }
   ],
   "source": [
    "%reload_ext sql\n",
    "%config SqlMagic.displaylimit = None\n",
    "%sql sqlite:///libray.db"
   ]
  },
  {
   "cell_type": "code",
   "execution_count": 7,
   "id": "61508a5b-1a92-43dc-bbf8-ca48e42b71b4",
   "metadata": {},
   "outputs": [
    {
     "data": {
      "text/html": [
       "<span style=\"None\">Running query in &#x27;sqlite:///libray.db&#x27;</span>"
      ],
      "text/plain": [
       "Running query in 'sqlite:///libray.db'"
      ]
     },
     "metadata": {},
     "output_type": "display_data"
    },
    {
     "data": {
      "text/html": [
       "<table>\n",
       "    <thead>\n",
       "        <tr>\n",
       "        </tr>\n",
       "    </thead>\n",
       "    <tbody>\n",
       "    </tbody>\n",
       "</table>"
      ],
      "text/plain": [
       "++\n",
       "||\n",
       "++\n",
       "++"
      ]
     },
     "execution_count": 7,
     "metadata": {},
     "output_type": "execute_result"
    }
   ],
   "source": [
    "%%sql\n",
    "-- Ensure foreign keys are enabled (Run separately before this script in SQLite)\n",
    "PRAGMA foreign_keys = ON;\n",
    "\n",
    "CREATE TABLE\n",
    "  IF NOT EXISTS events (\n",
    "    eventID INTEGER PRIMARY KEY,\n",
    "    eventName TEXT NOT NULL,\n",
    "    eventType TEXT NOT NULL,\n",
    "    description TEXT,\n",
    "    audienceType TEXT,\n",
    "    eventDate TEXT CHECK (eventDate LIKE '____-__-__'),\n",
    "    startTime TIME NOT NULL, -- Changed from TEXT to TIME for proper comparison\n",
    "    endTime TIME NOT NULL,\n",
    "    roomNum INTEGER NOT NULL,\n",
    "    FOREIGN KEY (roomNum) REFERENCES socialRooms (roomNum) ON DELETE CASCADE,\n",
    "    CHECK (startTime < endTime)\n",
    "  );\n",
    "\n",
    "CREATE TABLE\n",
    "  IF NOT EXISTS item (\n",
    "    itemID INTEGER PRIMARY KEY,\n",
    "    title TEXT NOT NULL,\n",
    "    publicationYear INTEGER,\n",
    "    genre TEXT,\n",
    "    itemType TEXT,\n",
    "    isAvailable INTEGER CHECK (isAvailable IN (0, 1)),\n",
    "    location TEXT\n",
    "  );\n",
    "\n",
    "CREATE TABLE\n",
    "  IF NOT EXISTS borrowedBy (\n",
    "    borrowingID INTEGER PRIMARY KEY,\n",
    "    itemID INTEGER NOT NULL,\n",
    "    userID INTEGER NOT NULL,\n",
    "    borrowDate TEXT CHECK (borrowDate LIKE '____-__-__'),\n",
    "    returnDate TEXT CHECK (returnDate LIKE '____-__-__'),\n",
    "    fineAmnt REAL DEFAULT 0.0,\n",
    "    FOREIGN KEY (itemID) REFERENCES item (itemID) ON DELETE CASCADE,\n",
    "    FOREIGN KEY (userID) REFERENCES USER (userID) ON DELETE CASCADE,\n",
    "    CHECK (borrowDate < returnDate)\n",
    "  );\n",
    "\n",
    "CREATE TABLE\n",
    "  IF NOT EXISTS socialRooms (\n",
    "    roomNum INTEGER PRIMARY KEY,\n",
    "    isAvailable INTEGER CHECK (isAvailable IN (0, 1)),\n",
    "    capacity INTEGER CHECK (capacity > 0)\n",
    "  );\n",
    "\n",
    "CREATE TABLE\n",
    "  IF NOT EXISTS personnel (\n",
    "    staffID INTEGER PRIMARY KEY,\n",
    "    firstName TEXT NOT NULL,\n",
    "    lastName TEXT NOT NULL,\n",
    "    POSITION TEXT NOT NULL,\n",
    "    phoneNum NUMERIC,\n",
    "    isActive INTEGER CHECK (isActive IN (0, 1))\n",
    "  );\n",
    "\n",
    "CREATE TABLE\n",
    "  IF NOT EXISTS patron (\n",
    "    userID INTEGER PRIMARY KEY,\n",
    "    firstName TEXT NOT NULL,\n",
    "    lastName TEXT NOT NULL,\n",
    "    phoneNum NUMERIC UNIQUE\n",
    "  );\n",
    "\n",
    "CREATE TABLE\n",
    "  IF NOT EXISTS futureItems (\n",
    "    itemID INTEGER PRIMARY KEY,\n",
    "    expectedArrivalDate TEXT CHECK (expectedArrivalDate LIKE '____-__-__'),\n",
    "    FOREIGN KEY (itemID) REFERENCES item (itemID) ON DELETE CASCADE\n",
    "  );\n",
    "\n",
    "CREATE TABLE\n",
    "  IF NOT EXISTS registerEvent (\n",
    "    eventID INTEGER,\n",
    "    userID INTEGER,\n",
    "    PRIMARY KEY (eventID, userID),\n",
    "    FOREIGN KEY (eventID) REFERENCES events (eventID) ON DELETE CASCADE,\n",
    "    FOREIGN KEY (userID) REFERENCES USER (userID) ON DELETE CASCADE\n",
    "  );\n",
    "\n",
    "CREATE TABLE\n",
    "  IF NOT EXISTS askLibrarian (\n",
    "    requestID INTEGER PRIMARY KEY,\n",
    "    userID INTEGER NOT NULL,\n",
    "    staffID INTEGER NOT NULL,\n",
    "    requestTime TEXT CHECK (requestTime LIKE '____-__-__ __:__:__'),\n",
    "    description TEXT NOT NULL,\n",
    "    status INTEGER CHECK (status IN (0, 1, 2)),\n",
    "    FOREIGN KEY (staffID) REFERENCES personnel (staffID) ON DELETE SET NULL,\n",
    "    FOREIGN KEY (userID) REFERENCES USER (userID) ON DELETE CASCADE\n",
    "  );\n",
    "\n",
    "CREATE TABLE\n",
    "  IF NOT EXISTS donations (\n",
    "    donationID INTEGER PRIMARY KEY,\n",
    "    userID INTEGER NOT NULL,\n",
    "    itemID INTEGER NOT NULL,\n",
    "    donationDate TEXT CHECK (donationDate LIKE '____-__-__'),\n",
    "    FOREIGN KEY (itemID) REFERENCES item (itemID) ON DELETE CASCADE,\n",
    "    FOREIGN KEY (userID) REFERENCES USER (userID) ON DELETE CASCADE\n",
    "  );\n",
    "\n",
    "CREATE TABLE\n",
    "  IF NOT EXISTS volunteers (\n",
    "    userID INTEGER NOT NULL,\n",
    "    staffID INTEGER NOT NULL,\n",
    "    PRIMARY KEY (userID, staffID),\n",
    "    FOREIGN KEY (staffID) REFERENCES personnel (staffID) ON DELETE CASCADE,\n",
    "    FOREIGN KEY (userID) REFERENCES USER (userID) ON DELETE CASCADE\n",
    "  );"
   ]
  },
  {
   "cell_type": "code",
   "execution_count": 61,
   "id": "f2ae2e34-ccf1-4bbd-8a5c-76d87e8dbab2",
   "metadata": {},
   "outputs": [
    {
     "data": {
      "text/html": [
       "<span style=\"None\">Running query in &#x27;sqlite:///libray.db&#x27;</span>"
      ],
      "text/plain": [
       "Running query in 'sqlite:///libray.db'"
      ]
     },
     "metadata": {},
     "output_type": "display_data"
    },
    {
     "data": {
      "text/html": [
       "<span style=\"color: green\">10 rows affected.</span>"
      ],
      "text/plain": [
       "10 rows affected."
      ]
     },
     "metadata": {},
     "output_type": "display_data"
    },
    {
     "data": {
      "text/html": [
       "<span style=\"color: green\">10 rows affected.</span>"
      ],
      "text/plain": [
       "10 rows affected."
      ]
     },
     "metadata": {},
     "output_type": "display_data"
    },
    {
     "data": {
      "text/html": [
       "<table>\n",
       "    <thead>\n",
       "        <tr>\n",
       "        </tr>\n",
       "    </thead>\n",
       "    <tbody>\n",
       "    </tbody>\n",
       "</table>"
      ],
      "text/plain": [
       "++\n",
       "||\n",
       "++\n",
       "++"
      ]
     },
     "execution_count": 61,
     "metadata": {},
     "output_type": "execute_result"
    }
   ],
   "source": [
    "%%sql\n"
   ]
  },
  {
   "cell_type": "code",
   "execution_count": 47,
   "id": "e96900a2-32ab-4121-b1ad-92ebd7f9da69",
   "metadata": {},
   "outputs": [
    {
     "data": {
      "text/html": [
       "<span style=\"None\">Running query in &#x27;sqlite:///libray.db&#x27;</span>"
      ],
      "text/plain": [
       "Running query in 'sqlite:///libray.db'"
      ]
     },
     "metadata": {},
     "output_type": "display_data"
    },
    {
     "data": {
      "text/html": [
       "<table>\n",
       "    <thead>\n",
       "        <tr>\n",
       "        </tr>\n",
       "    </thead>\n",
       "    <tbody>\n",
       "    </tbody>\n",
       "</table>"
      ],
      "text/plain": [
       "++\n",
       "||\n",
       "++\n",
       "++"
      ]
     },
     "execution_count": 47,
     "metadata": {},
     "output_type": "execute_result"
    }
   ],
   "source": [
    "%%sql \n",
    "-- SELECT name FROM sqlite_master WHERE type='table';\n",
    "\n",
    "--works\n",
    "-- SELECT COUNT(*) from personnel;\n",
    "-- SELECT COUNT(*) from borrowedBy;\n",
    "-- SELECT COUNT(*) from item;\n",
    "-- SELECT COUNT(*) from patron;\n",
    "-- SELECT COUNT(*) from socialRooms;\n",
    "-- SELECT COUNT(*) from events;\n",
    "-- SELECT COUNT(*) from donations;\n",
    "-- SELECT COUNT(*) from askLibrian;\n",
    "-- SELECT COUNT(*) from volunteers;\n",
    "\n",
    "\n",
    "\n"
   ]
  },
  {
   "cell_type": "code",
   "execution_count": 31,
   "id": "e847980c-abdb-4b3b-b437-16f9eeb36248",
   "metadata": {},
   "outputs": [
    {
     "data": {
      "text/html": [
       "<span style=\"None\">Running query in &#x27;sqlite:///libray.db&#x27;</span>"
      ],
      "text/plain": [
       "Running query in 'sqlite:///libray.db'"
      ]
     },
     "metadata": {},
     "output_type": "display_data"
    },
    {
     "data": {
      "text/html": [
       "<table>\n",
       "    <thead>\n",
       "        <tr>\n",
       "        </tr>\n",
       "    </thead>\n",
       "    <tbody>\n",
       "    </tbody>\n",
       "</table>"
      ],
      "text/plain": [
       "++\n",
       "||\n",
       "++\n",
       "++"
      ]
     },
     "execution_count": 31,
     "metadata": {},
     "output_type": "execute_result"
    }
   ],
   "source": [
    "%%sql\n",
    "PRAGMA foreign_keys = OFF;\n",
    "\n",
    "-- DROP TABLE IF EXISTS registerEvent;\n",
    "-- DROP TABLE IF EXISTS volunteers;\n",
    "-- DROP TABLE IF EXISTS donations;\n",
    "-- DROP TABLE IF EXISTS askLibrarian;\n",
    "-- DROP TABLE IF EXISTS futureItems;\n",
    "-- DROP TABLE IF EXISTS borrowedBy;\n",
    "-- DROP TABLE IF EXISTS events;\n",
    "-- DROP TABLE IF EXISTS socialRooms;\n",
    "-- DROP TABLE IF EXISTS personnel;\n",
    "-- DROP TABLE IF EXISTS patron;\n",
    "-- DROP TABLE item;"
   ]
  },
  {
   "cell_type": "code",
   "execution_count": null,
   "id": "475c6dc2-1ae5-4207-be8b-e52e8aabb202",
   "metadata": {},
   "outputs": [],
   "source": [
    "-- -- Insert sample data for events\n",
    "REPLACE INTO events (eventID, eventName, eventType, description, audienceType, eventDate, startTime, endTime, roomNum) VALUES\n",
    "(400, 'Book Club Meeting', 'Discussion', 'Monthly book club meetup', 'Adults', '2024-04-01', '18:00:00', '20:00:00', 500),\n",
    "(401, 'Tech Talk', 'Seminar', 'AI and future trends', 'General', '2024-04-05', '14:00:00', '16:00:00', 501),\n",
    "(402, 'Story Time', 'Reading', 'Children storytelling session', 'Children', '2024-04-10', '10:00:00', '11:30:00', 502),\n",
    "(403, 'Poetry Night', 'Performance', 'Open mic poetry', 'Teens', '2024-04-12', '19:00:00', '21:00:00', 503),\n",
    "(404, 'Chess Tournament', 'Competition', 'Annual chess contest', 'General', '2024-04-15', '10:00:00', '15:00:00', 504),\n",
    "(405, 'Coding Workshop', 'Workshop', 'Intro to Python', 'Teens', '2024-04-18', '13:00:00', '16:00:00', 505),\n",
    "(406, 'Author Meet & Greet', 'Discussion', 'Q&A with famous author', 'General', '2024-04-22', '17:00:00', '19:00:00', 506),\n",
    "(407, 'Film Screening', 'Entertainment', 'Classic movie night', 'General', '2024-04-25', '20:00:00', '22:30:00', 507),\n",
    "(408, 'Library Game Night', 'Social', 'Board games and card games for all ages', 'General', '2024-04-28', '17:00:00', '20:00:00', 508),\n",
    "(409, 'Science Fair', 'Educational', 'Annual community science fair', 'Teens', '2024-04-30', '10:00:00', '15:00:00', 509);\n",
    "-- Insert sample data for item\n",
    "-- INSERT INTO\n",
    "--   item (\n",
    "--     itemID,\n",
    "--     title,\n",
    "--     publicationYear,\n",
    "--     genre,\n",
    "--     itemType,\n",
    "--     isAvailable,\n",
    "--     location\n",
    "--   )\n",
    "-- VALUES\n",
    "--   (\n",
    "--     300,\n",
    "--     'To Kill a Mockingbird',\n",
    "--     1960,\n",
    "--     'Fiction',\n",
    "--     'Book',\n",
    "--     1,\n",
    "--     'Shelf A1'\n",
    "--   ),\n",
    "--   (\n",
    "--     301,\n",
    "--     '1984',\n",
    "--     1949,\n",
    "--     'Dystopian',\n",
    "--     'Book',\n",
    "--     1,\n",
    "--     'Shelf A2'\n",
    "--   ),\n",
    "--   (\n",
    "--     302,\n",
    "--     'The Catcher in the Rye',\n",
    "--     1951,\n",
    "--     'Classic',\n",
    "--     'Book',\n",
    "--     1,\n",
    "--     'Shelf B1'\n",
    "--   ),\n",
    "--   (\n",
    "--     303,\n",
    "--     'Sapiens',\n",
    "--     2011,\n",
    "--     'Non-fiction',\n",
    "--     'Book',\n",
    "--     1,\n",
    "--     'Shelf C1'\n",
    "--   ),\n",
    "--   (\n",
    "--     304,\n",
    "--     'Inception',\n",
    "--     2010,\n",
    "--     'Sci-Fi',\n",
    "--     'DVD',\n",
    "--     1,\n",
    "--     'Shelf D1'\n",
    "--   ),\n",
    "--   (\n",
    "--     305,\n",
    "--     'The Matrix',\n",
    "--     1999,\n",
    "--     'Sci-Fi',\n",
    "--     'DVD',\n",
    "--     1,\n",
    "--     'Shelf D2'\n",
    "--   ),\n",
    "--   (\n",
    "--     306,\n",
    "--     'Interstellar',\n",
    "--     2014,\n",
    "--     'Sci-Fi',\n",
    "--     'DVD',\n",
    "--     1,\n",
    "--     'Shelf D3'\n",
    "--   ),\n",
    "--   (\n",
    "--     307,\n",
    "--     'The Godfather',\n",
    "--     1972,\n",
    "--     'Crime',\n",
    "--     'DVD',\n",
    "--     1,\n",
    "--     'Shelf D4'\n",
    "--   ),\n",
    "--   (\n",
    "--     308,\n",
    "--     'Harry Potter and the Sorcerer''s Stone',\n",
    "--     1997,\n",
    "--     'Fantasy',\n",
    "--     'Book',\n",
    "--     1,\n",
    "--     'Shelf B2'\n",
    "--   ),\n",
    "--   (\n",
    "--     309,\n",
    "--     'The Great Gatsby',\n",
    "--     1925,\n",
    "--     'Classic',\n",
    "--     'Book',\n",
    "--     1,\n",
    "--     'Shelf B3'\n",
    "--   );\n",
    "\n",
    "-- Insert sample data for borrowedBy\n",
    "-- INSERT INTO borrowedBy (borrowingID, itemID, userID, borrowDate, returnDate, fineAmnt) VALUES\n",
    "-- (1, 300, 100, '2024-03-01', '2024-03-15', 0.0),\n",
    "-- (2, 301, 101, '2024-03-02', '2024-03-16', 0.0),\n",
    "-- (3, 302, 102, '2024-03-05', '2024-03-19', 0.0),\n",
    "-- (4, 303, 103, '2024-03-10', '2024-03-24', 0.0),\n",
    "-- (5, 304, 104, '2024-03-15', '2024-03-29', 0.0),\n",
    "-- (6, 305, 105, '2024-03-20', '2024-04-03', 1.5),\n",
    "-- (7, 306, 106, '2024-03-22', '2024-04-05', 0.0),\n",
    "-- (8, 307, 107, '2024-03-25', '2024-04-08', 2.0),\n",
    "-- (9, 308, 108, '2024-03-27', '2024-04-10', 0.0),\n",
    "-- (10, 309, 109, '2024-03-30', '2024-04-13', 0.0);\n",
    "-- Insert sample data for socialRooms\n",
    "-- REPLACE INTO socialRooms (roomNum, isAvailable, capacity) VALUES\n",
    "-- (500, 1, 50),\n",
    "-- (501, 1, 100),\n",
    "-- (502, 1, 30),\n",
    "-- (503, 1, 40),\n",
    "-- (504, 1, 60),\n",
    "-- (505, 1, 70),\n",
    "-- (506, 1, 80),\n",
    "-- (507, 1, 90),\n",
    "-- (508, 1, 100),\n",
    "-- (509, 1, 30);\n",
    "-- -- Insert sample data for personnel\n",
    "-- INSERT INTO personnel (staffID, firstName, lastName, position, phoneNum, isActive) VALUES\n",
    "-- (200, 'Alice', 'Johnson', 'Librarian', '1234567890', 1),\n",
    "-- (201, 'Bob', 'Smith', 'Assistant', '1234567891', 1),\n",
    "-- (202, 'Charlie', 'Brown', 'Manager', '1234567892', 1),\n",
    "-- (203, 'David', 'White', 'Technician', '1234567893', 1),\n",
    "-- (204, 'Eve', 'Black', 'Custodian', '1234567894', 1),\n",
    "-- (205, 'Frank', 'Green', 'Security', '1234567895', 1),\n",
    "-- (206, 'Grace', 'Blue', 'Archivist', '1234567896', 1),\n",
    "-- (207, 'Hank', 'Red', 'IT Support', '1234567897', 1),\n",
    "-- (208, 'Ivy', 'Yellow', 'Researcher', '1234567898', 1),\n",
    "-- (209, 'Jack', 'Gray', 'Volunteer Coordinator', '1234567899', 1);\n",
    "-- -- Insert sample data for user\n",
    "-- INSERT INTO patron (userID, firstName, lastName, phoneNum) VALUES\n",
    "-- (100, 'John', 'Doe', '9876543210'),\n",
    "-- (101, 'Jane', 'Doe', '9876543211'),\n",
    "-- (102, 'Emily', 'Clark', '9876543212'),\n",
    "-- (103, 'Michael', 'Brown', '9876543213'),\n",
    "-- (104, 'Sarah', 'Johnson', '9876543214'),\n",
    "-- (105, 'Chris', 'Lee', '9876543215'),\n",
    "-- (106, 'Anna', 'Taylor','9876543216'),\n",
    "-- (107, 'David', 'Wilson', '9876543217'),\n",
    "-- (108, 'Emma', 'Martinez','9876543218'),\n",
    "-- (109, 'James', 'Anderson', '9876543219');"
   ]
  },
  {
   "cell_type": "code",
   "execution_count": null,
   "id": "b26932c9-95d7-409e-a8cf-f42bb341645d",
   "metadata": {},
   "outputs": [],
   "source": [
    "-- INSERT INTO volunteers (userID, staffID) VALUES\n",
    "-- (200, 10),\n",
    "-- (201, 11),\n",
    "-- (202, 12),\n",
    "-- (203, 13),\n",
    "-- (204, 14),\n",
    "-- (205, 15),\n",
    "-- (206, 16),\n",
    "-- (207, 17),\n",
    "-- (208, 18),\n",
    "-- (209, 19);\n",
    "\n",
    "-- INSERT INTO donations (donationID, userID, itemID, donationDate) VALUES\n",
    "-- (500, 200, 300, '2024-03-01'),\n",
    "-- (501, 201, 301, '2024-03-05'),\n",
    "-- (502, 202, 302, '2024-03-08'),\n",
    "-- (503, 203, 303, '2024-03-12'),\n",
    "-- (504, 204, 304, '2024-03-15'),\n",
    "-- (505, 205, 305, '2024-03-18'),\n",
    "-- (506, 206, 306, '2024-03-22'),\n",
    "-- (507, 207, 307, '2024-03-25'),\n",
    "-- (508, 208, 308, '2024-03-28'),\n",
    "-- (509, 209, 309, '2024-03-30');\n",
    "\n",
    "INSERT INTO askLibrarian (requestID, userID, staffID, requestTime, description, status) VALUES\n",
    "(600, 200, 10, '2024-03-01 10:15:00', 'Inquiry about book availability', 0),\n",
    "(601, 201, 11, '2024-03-02 14:30:00', 'Help with research materials', 1),\n",
    "(602, 202, 12, '2024-03-03 09:45:00', 'Issue with borrowed book return', 2),\n",
    "(603, 203, 13, '2024-03-04 13:10:00', 'Request for book recommendation', 0),\n",
    "(604, 204, 14, '2024-03-05 16:20:00', 'Guidance on digital resources', 1),\n",
    "(605, 205, 15, '2024-03-06 11:05:00', 'Request for room booking', 2),\n",
    "(606, 206, 16, '2024-03-07 12:40:00', 'Assistance with library membership', 0),\n",
    "(607, 207, 17, '2024-03-08 15:00:00', 'Lost item inquiry', 1),\n",
    "(608, 208, 18, '2024-03-09 17:25:00', 'Help with citation formatting', 2),\n",
    "(609, 209, 19, '2024-03-10 08:50:00', 'Request for event details', 0);\n",
    "\n",
    "INSERT INTO registerEvent (eventID, userID) VALUES\n",
    "(400, 200),\n",
    "(401, 201),\n",
    "(402, 202),\n",
    "(403, 203),\n",
    "(404, 204),\n",
    "(405, 205),\n",
    "(406, 206),\n",
    "(407, 207),\n",
    "(408, 208),\n",
    "(409, 209);\n",
    "INSERT INTO futureItems (itemID, expectedArrivalDate) VALUES\n",
    "(310, '2024-05-01'),\n",
    "(311, '2024-05-05'),\n",
    "(312, '2024-05-10'),\n",
    "(313, '2024-05-15'),\n",
    "(314, '2024-05-20'),\n",
    "(315, '2024-05-25'),\n",
    "(316, '2024-06-01'),\n",
    "(317, '2024-06-05'),\n",
    "(318, '2024-06-10'),\n",
    "(319, '2024-06-15');"
   ]
  }
 ],
 "metadata": {
  "kernelspec": {
   "display_name": "Python [conda env:base] *",
   "language": "python",
   "name": "conda-base-py"
  },
  "language_info": {
   "codemirror_mode": {
    "name": "ipython",
    "version": 3
   },
   "file_extension": ".py",
   "mimetype": "text/x-python",
   "name": "python",
   "nbconvert_exporter": "python",
   "pygments_lexer": "ipython3",
   "version": "3.12.3"
  }
 },
 "nbformat": 4,
 "nbformat_minor": 5
}
